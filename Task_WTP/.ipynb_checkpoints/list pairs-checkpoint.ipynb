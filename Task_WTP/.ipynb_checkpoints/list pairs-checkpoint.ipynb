{
 "cells": [
  {
   "cell_type": "code",
   "execution_count": 2,
   "metadata": {},
   "outputs": [],
   "source": [
    "l = ['A', 'B', 'C', 'D']"
   ]
  },
  {
   "cell_type": "code",
   "execution_count": 3,
   "metadata": {},
   "outputs": [],
   "source": [
    "import random"
   ]
  },
  {
   "cell_type": "code",
   "execution_count": 72,
   "metadata": {},
   "outputs": [
    {
     "name": "stdout",
     "output_type": "stream",
     "text": [
      "['C', 'B'] ['D', 'A']\n"
     ]
    }
   ],
   "source": [
    "y1 = reorder_pair(random.sample(l, 2))\n",
    "y2 = reorder_pair(random.sample(List_Subtract(l, y1),2))\n",
    "\n",
    "print(y1,y2)"
   ]
  },
  {
   "cell_type": "code",
   "execution_count": 69,
   "metadata": {},
   "outputs": [],
   "source": [
    "def List_Subtract(lista, listb):\n",
    "    return list(set(lista) - set(listb))"
   ]
  },
  {
   "cell_type": "code",
   "execution_count": 51,
   "metadata": {},
   "outputs": [],
   "source": [
    "#Then reorder list:\n",
    "    #PSEUDO CODE: IF val(y1[0]) geq Val(y1[1]) do nothing, else flip list\n",
    "\n",
    "    \n",
    "def reorder_pair(pair):\n",
    "    if pair[0] > pair[1]:\n",
    "        return pair\n",
    "    else:\n",
    "        return pair[::-1]"
   ]
  },
  {
   "cell_type": "code",
   "execution_count": 66,
   "metadata": {},
   "outputs": [
    {
     "data": {
      "text/plain": [
       "['C', 'A', 'B']"
      ]
     },
     "execution_count": 66,
     "metadata": {},
     "output_type": "execute_result"
    }
   ],
   "source": [
    "list(set(['A', 'B', 'C', 'D']) - set(['X', 'D']))"
   ]
  },
  {
   "cell_type": "code",
   "execution_count": 14,
   "metadata": {},
   "outputs": [],
   "source": [
    "import random\n",
    "la = ['T', 'C', 'I', 'R']\n",
    "\n",
    "\n",
    "\n",
    "\n",
    "def pair_generator(Tabulation_Value, Concealment_Value, Interpretation_Value, Replication_Value):\n",
    "    la = ['T', 'C', 'I', 'R']\n",
    "    \n",
    "    def value_function(string):\n",
    "        if string == 'T':\n",
    "            return Tabulation_Value\n",
    "        elif string == 'C':\n",
    "            return Concealment_Value\n",
    "        elif string == 'I':\n",
    "            return Interpretation_Value\n",
    "        elif string == 'R':\n",
    "            return Replication_Value\n",
    "        else:\n",
    "            raise ValueError('Input must be first (capital) letter of a task name')\n",
    "    \n",
    "    def reorder_pair(pair):\n",
    "        if value_function(pair[0]) >= value_function(pair[1]):\n",
    "            return pair\n",
    "        else:\n",
    "            return pair[::-1]  \n",
    "        \n",
    "    def List_Subtract(lista, listb):\n",
    "        return list(set(lista) - set(listb))    \n",
    "        \n",
    "    pair1 = reorder_pair(random.sample(la, 2))\n",
    "    newla = List_Subtract(la, pair1)\n",
    "    pair2 = reorder_pair(random.sample(newla, 2))\n",
    "    \n",
    "    return pair1, pair2\n",
    "        "
   ]
  },
  {
   "cell_type": "code",
   "execution_count": 20,
   "metadata": {},
   "outputs": [
    {
     "data": {
      "text/plain": [
       "(['T', 'R'], ['I', 'C'])"
      ]
     },
     "execution_count": 20,
     "metadata": {},
     "output_type": "execute_result"
    }
   ],
   "source": [
    "pair_generator(2, 1, 2, 2)\n"
   ]
  },
  {
   "cell_type": "code",
   "execution_count": 11,
   "metadata": {},
   "outputs": [
    {
     "ename": "ValueError",
     "evalue": "test",
     "output_type": "error",
     "traceback": [
      "\u001b[1;31m---------------------------------------------------------------------------\u001b[0m",
      "\u001b[1;31mValueError\u001b[0m                                Traceback (most recent call last)",
      "\u001b[1;32m<ipython-input-11-5f97ba623cf8>\u001b[0m in \u001b[0;36m<module>\u001b[1;34m\u001b[0m\n\u001b[1;32m----> 1\u001b[1;33m \u001b[0mvalue_function\u001b[0m\u001b[1;33m(\u001b[0m\u001b[1;34m'S'\u001b[0m\u001b[1;33m)\u001b[0m\u001b[1;33m\u001b[0m\u001b[1;33m\u001b[0m\u001b[0m\n\u001b[0m",
      "\u001b[1;32m<ipython-input-6-3b36e6c57774>\u001b[0m in \u001b[0;36mvalue_function\u001b[1;34m(string)\u001b[0m\n\u001b[0;32m      9\u001b[0m         \u001b[1;32mreturn\u001b[0m \u001b[0mReplication_Value\u001b[0m\u001b[1;33m\u001b[0m\u001b[1;33m\u001b[0m\u001b[0m\n\u001b[0;32m     10\u001b[0m     \u001b[1;32melse\u001b[0m\u001b[1;33m:\u001b[0m\u001b[1;33m\u001b[0m\u001b[1;33m\u001b[0m\u001b[0m\n\u001b[1;32m---> 11\u001b[1;33m         \u001b[1;32mraise\u001b[0m \u001b[0mValueError\u001b[0m\u001b[1;33m(\u001b[0m\u001b[1;34m'test'\u001b[0m\u001b[1;33m)\u001b[0m\u001b[1;33m\u001b[0m\u001b[1;33m\u001b[0m\u001b[0m\n\u001b[0m\u001b[0;32m     12\u001b[0m \u001b[1;33m\u001b[0m\u001b[0m\n\u001b[0;32m     13\u001b[0m \u001b[0mTabulation_Value\u001b[0m \u001b[1;33m=\u001b[0m \u001b[1;36m1\u001b[0m\u001b[1;33m\u001b[0m\u001b[1;33m\u001b[0m\u001b[0m\n",
      "\u001b[1;31mValueError\u001b[0m: test"
     ]
    }
   ],
   "source": [
    "value_function('S')"
   ]
  },
  {
   "cell_type": "code",
   "execution_count": null,
   "metadata": {},
   "outputs": [],
   "source": []
  }
 ],
 "metadata": {
  "kernelspec": {
   "display_name": "Python 3",
   "language": "python",
   "name": "python3"
  },
  "language_info": {
   "codemirror_mode": {
    "name": "ipython",
    "version": 3
   },
   "file_extension": ".py",
   "mimetype": "text/x-python",
   "name": "python",
   "nbconvert_exporter": "python",
   "pygments_lexer": "ipython3",
   "version": "3.7.4"
  }
 },
 "nbformat": 4,
 "nbformat_minor": 2
}
