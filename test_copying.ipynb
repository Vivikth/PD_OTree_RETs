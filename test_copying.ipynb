{
 "cells": [
  {
   "cell_type": "code",
   "execution_count": 1,
   "metadata": {},
   "outputs": [],
   "source": [
    "import shutil\n",
    "\n",
    "# original = r'C:\\Users\\University Vivikth\\Documents\\UNI\\Fourth Year\\Thesis\\Otree\\Experimental_RET - Copy\\task_encoding1a\\tests.py'\n",
    "# target0 = r'C:\\Users\\University Vivikth\\Documents\\UNI\\Fourth Year\\Thesis\\Otree\\Experimental_RET - Copy\\task_encoding0\\tests.py'\n",
    "# target1b = r'C:\\Users\\University Vivikth\\Documents\\UNI\\Fourth Year\\Thesis\\Otree\\Experimental_RET - Copy\\task_encoding1b\\tests.py'\n",
    "# target2a = r'C:\\Users\\University Vivikth\\Documents\\UNI\\Fourth Year\\Thesis\\Otree\\Experimental_RET - Copy\\task_encoding2a\\tests.py'\n",
    "# target2b = r'C:\\Users\\University Vivikth\\Documents\\UNI\\Fourth Year\\Thesis\\Otree\\Experimental_RET - Copy\\task_encoding2b\\tests.py'\n",
    "\n",
    "# for target in [target0, target1b, target2a, target2b]:\n",
    "#     shutil.copyfile(original, target)\n"
   ]
  },
  {
   "cell_type": "code",
   "execution_count": 6,
   "metadata": {},
   "outputs": [],
   "source": [
    "OG = r'C:\\Users\\University Vivikth\\Documents\\UNI\\Fourth Year\\Thesis\\Otree\\Experimental_RET - Copy\\task_%s1a\\tests.py'%('transcribing')\n",
    "for task in ['encoding', 'organising', 'replication', 'tabulation']:\n",
    "    target = r'C:\\Users\\University Vivikth\\Documents\\UNI\\Fourth Year\\Thesis\\Otree\\Experimental_RET - Copy\\task_%s1a\\tests.py'%(task)\n",
    "    shutil.copyfile(OG, target)\n",
    "\n",
    "\n"
   ]
  },
  {
   "cell_type": "code",
   "execution_count": 7,
   "metadata": {},
   "outputs": [],
   "source": [
    "for task in ['encoding', 'organising', 'replication', 'tabulation', 'transcribing']:\n",
    "    original = r'C:\\Users\\University Vivikth\\Documents\\UNI\\Fourth Year\\Thesis\\Otree\\Experimental_RET - Copy\\task_%s1a\\tests.py'%(task)\n",
    "    target0 = r'C:\\Users\\University Vivikth\\Documents\\UNI\\Fourth Year\\Thesis\\Otree\\Experimental_RET - Copy\\task_%s0\\tests.py'%(task)\n",
    "    target1b = r'C:\\Users\\University Vivikth\\Documents\\UNI\\Fourth Year\\Thesis\\Otree\\Experimental_RET - Copy\\task_%s1b\\tests.py'%(task)\n",
    "    target2a = r'C:\\Users\\University Vivikth\\Documents\\UNI\\Fourth Year\\Thesis\\Otree\\Experimental_RET - Copy\\task_%s2a\\tests.py'%(task)\n",
    "    target2b = r'C:\\Users\\University Vivikth\\Documents\\UNI\\Fourth Year\\Thesis\\Otree\\Experimental_RET - Copy\\task_%s2b\\tests.py'%(task)\n",
    "    for target in [target0, target1b, target2a, target2b]:\n",
    "        shutil.copyfile(original, target)\n"
   ]
  },
  {
   "cell_type": "code",
   "execution_count": 14,
   "metadata": {},
   "outputs": [
    {
     "data": {
      "text/plain": [
       "0"
      ]
     },
     "execution_count": 14,
     "metadata": {},
     "output_type": "execute_result"
    }
   ],
   "source": [
    "0 and (0 or 1)"
   ]
  },
  {
   "cell_type": "code",
   "execution_count": 16,
   "metadata": {},
   "outputs": [
    {
     "data": {
      "text/plain": [
       "False"
      ]
     },
     "execution_count": 16,
     "metadata": {},
     "output_type": "execute_result"
    }
   ],
   "source": [
    "'task' in 'Task_WTP'"
   ]
  },
  {
   "cell_type": "code",
   "execution_count": null,
   "metadata": {},
   "outputs": [],
   "source": []
  }
 ],
 "metadata": {
  "kernelspec": {
   "display_name": "Python 3",
   "language": "python",
   "name": "python3"
  },
  "language_info": {
   "codemirror_mode": {
    "name": "ipython",
    "version": 3
   },
   "file_extension": ".py",
   "mimetype": "text/x-python",
   "name": "python",
   "nbconvert_exporter": "python",
   "pygments_lexer": "ipython3",
   "version": "3.7.4"
  }
 },
 "nbformat": 4,
 "nbformat_minor": 2
}
