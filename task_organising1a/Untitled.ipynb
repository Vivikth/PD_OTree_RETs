{
 "cells": [
  {
   "cell_type": "code",
   "execution_count": 1,
   "metadata": {},
   "outputs": [
    {
     "name": "stdout",
     "output_type": "stream",
     "text": [
      "Collecting amazon-product-review-scraper\n",
      "  Downloading https://files.pythonhosted.org/packages/e2/77/93d24bd36a5e95553c07bf174227c11253f77a7d5e70aaf4953e5f3750b4/amazon_product_review_scraper-0.9-py3-none-any.whl\n",
      "Requirement already satisfied: beautifulsoup4 in c:\\users\\university vivikth\\anaconda3\\lib\\site-packages (from amazon-product-review-scraper) (4.8.0)\n",
      "Collecting fake-useragent (from amazon-product-review-scraper)\n",
      "  Downloading https://files.pythonhosted.org/packages/d1/79/af647635d6968e2deb57a208d309f6069d31cb138066d7e821e575112a80/fake-useragent-0.1.11.tar.gz\n",
      "Requirement already satisfied: tqdm in c:\\users\\university vivikth\\anaconda3\\lib\\site-packages (from amazon-product-review-scraper) (4.36.1)\n",
      "Requirement already satisfied: soupsieve>=1.2 in c:\\users\\university vivikth\\anaconda3\\lib\\site-packages (from beautifulsoup4->amazon-product-review-scraper) (1.9.3)\n",
      "Building wheels for collected packages: fake-useragent\n",
      "  Building wheel for fake-useragent (setup.py): started\n",
      "  Building wheel for fake-useragent (setup.py): finished with status 'done'\n",
      "  Created wheel for fake-useragent: filename=fake_useragent-0.1.11-cp37-none-any.whl size=13490 sha256=08d566046118b95fa79a717f8cf32948e372c0e2ca1478a354c7ded931b44cd1\n",
      "  Stored in directory: C:\\Users\\University Vivikth\\AppData\\Local\\pip\\Cache\\wheels\\5e\\63\\09\\d1dc15179f175357d3f5c00cbffbac37f9e8690d80545143ff\n",
      "Successfully built fake-useragent\n",
      "Installing collected packages: fake-useragent, amazon-product-review-scraper\n",
      "Successfully installed amazon-product-review-scraper-0.9 fake-useragent-0.1.11\n"
     ]
    }
   ],
   "source": [
    "!pip install amazon-product-review-scraper"
   ]
  },
  {
   "cell_type": "code",
   "execution_count": 5,
   "metadata": {},
   "outputs": [],
   "source": [
    "from amazon_product_review_scraper import amazon_product_review_scraper\n"
   ]
  },
  {
   "cell_type": "code",
   "execution_count": 6,
   "metadata": {},
   "outputs": [
    {
     "name": "stdout",
     "output_type": "stream",
     "text": [
      "Total reviews (all pages): 161\n",
      "Total pages: 17\n",
      "Start page: 1; End page: 17\n",
      "\n",
      "Started!\n"
     ]
    },
    {
     "data": {
      "application/vnd.jupyter.widget-view+json": {
       "model_id": "c2ea05685e164069a87bc088c7646213",
       "version_major": 2,
       "version_minor": 0
      },
      "text/plain": [
       "HBox(children=(IntProgress(value=0, max=17), HTML(value='')))"
      ]
     },
     "metadata": {},
     "output_type": "display_data"
    },
    {
     "name": "stdout",
     "output_type": "stream",
     "text": [
      "\n",
      "Completed!\n"
     ]
    },
    {
     "data": {
      "text/html": [
       "<div>\n",
       "<style scoped>\n",
       "    .dataframe tbody tr th:only-of-type {\n",
       "        vertical-align: middle;\n",
       "    }\n",
       "\n",
       "    .dataframe tbody tr th {\n",
       "        vertical-align: top;\n",
       "    }\n",
       "\n",
       "    .dataframe thead th {\n",
       "        text-align: right;\n",
       "    }\n",
       "</style>\n",
       "<table border=\"1\" class=\"dataframe\">\n",
       "  <thead>\n",
       "    <tr style=\"text-align: right;\">\n",
       "      <th></th>\n",
       "      <th>date_info</th>\n",
       "      <th>name</th>\n",
       "      <th>title</th>\n",
       "      <th>content</th>\n",
       "      <th>rating</th>\n",
       "    </tr>\n",
       "  </thead>\n",
       "  <tbody>\n",
       "    <tr>\n",
       "      <td>0</td>\n",
       "      <td>Reviewed in India on 15 June 2020</td>\n",
       "      <td>Prabhjot Singh</td>\n",
       "      <td>Application Is Corrupted</td>\n",
       "      <td>After 15Days Of Use GTA V Is ...!</td>\n",
       "      <td>1.0 out of 5 stars</td>\n",
       "    </tr>\n",
       "    <tr>\n",
       "      <td>1</td>\n",
       "      <td>Reviewed in India on 17 March 2020</td>\n",
       "      <td>Anil</td>\n",
       "      <td>👍🏻</td>\n",
       "      <td>God</td>\n",
       "      <td>4.0 out of 5 stars</td>\n",
       "    </tr>\n",
       "    <tr>\n",
       "      <td>2</td>\n",
       "      <td>Reviewed in India on 19 November 2018</td>\n",
       "      <td>Sofiaubaid</td>\n",
       "      <td>The worst</td>\n",
       "      <td>Very bad game</td>\n",
       "      <td>1.0 out of 5 stars</td>\n",
       "    </tr>\n",
       "    <tr>\n",
       "      <td>3</td>\n",
       "      <td>Reviewed in India on 17 May 2020</td>\n",
       "      <td>Amazon Customer</td>\n",
       "      <td>Good Game Play , one of the famous game for PS...</td>\n",
       "      <td>Good Game... Awesome service by vendor and Ama...</td>\n",
       "      <td>4.0 out of 5 stars</td>\n",
       "    </tr>\n",
       "    <tr>\n",
       "      <td>4</td>\n",
       "      <td>Reviewed in India on 23 February 2020</td>\n",
       "      <td>Joseph Rodrigues</td>\n",
       "      <td>Amazing</td>\n",
       "      <td>Amazing</td>\n",
       "      <td>5.0 out of 5 stars</td>\n",
       "    </tr>\n",
       "  </tbody>\n",
       "</table>\n",
       "</div>"
      ],
      "text/plain": [
       "                               date_info              name  \\\n",
       "0      Reviewed in India on 15 June 2020    Prabhjot Singh   \n",
       "1     Reviewed in India on 17 March 2020              Anil   \n",
       "2  Reviewed in India on 19 November 2018        Sofiaubaid   \n",
       "3       Reviewed in India on 17 May 2020   Amazon Customer   \n",
       "4  Reviewed in India on 23 February 2020  Joseph Rodrigues   \n",
       "\n",
       "                                               title  \\\n",
       "0                           Application Is Corrupted   \n",
       "1                                                 👍🏻   \n",
       "2                                          The worst   \n",
       "3  Good Game Play , one of the famous game for PS...   \n",
       "4                                            Amazing   \n",
       "\n",
       "                                             content              rating  \n",
       "0                  After 15Days Of Use GTA V Is ...!  1.0 out of 5 stars  \n",
       "1                                                God  4.0 out of 5 stars  \n",
       "2                                      Very bad game  1.0 out of 5 stars  \n",
       "3  Good Game... Awesome service by vendor and Ama...  4.0 out of 5 stars  \n",
       "4                                            Amazing  5.0 out of 5 stars  "
      ]
     },
     "execution_count": 6,
     "metadata": {},
     "output_type": "execute_result"
    }
   ],
   "source": [
    "review_scraper = amazon_product_review_scraper(amazon_site=\"amazon.in\", product_asin=\"B07X6V2FR3\")\n",
    "reviews_df = review_scraper.scrape()\n",
    "reviews_df.head(5)\n"
   ]
  },
  {
   "cell_type": "code",
   "execution_count": 8,
   "metadata": {},
   "outputs": [
    {
     "name": "stdout",
     "output_type": "stream",
     "text": [
      "Collecting amazon-review-scraper\n",
      "  Downloading https://files.pythonhosted.org/packages/f2/64/e8e189a1fd28f6c6141ee44587072d35d436971a353181af2aecb40ecf6a/amazon_review_scraper-0.1.2.tar.gz\n",
      "Building wheels for collected packages: amazon-review-scraper\n",
      "  Building wheel for amazon-review-scraper (setup.py): started\n",
      "  Building wheel for amazon-review-scraper (setup.py): finished with status 'done'\n",
      "  Created wheel for amazon-review-scraper: filename=amazon_review_scraper-0.1.2-cp37-none-any.whl size=2980 sha256=0b940b218c8472760b34c66953cef5b380c8aa090fa8652731b3149ddb467a32\n",
      "  Stored in directory: C:\\Users\\University Vivikth\\AppData\\Local\\pip\\Cache\\wheels\\d1\\0d\\07\\95c2e7c738feb3b508bc8b6b0587bcbc67c74410ccdc80691f\n",
      "Successfully built amazon-review-scraper\n",
      "Installing collected packages: amazon-review-scraper\n",
      "Successfully installed amazon-review-scraper-0.1.2\n"
     ]
    }
   ],
   "source": [
    "!pip install amazon-review-scraper"
   ]
  },
  {
   "cell_type": "code",
   "execution_count": null,
   "metadata": {},
   "outputs": [],
   "source": []
  }
 ],
 "metadata": {
  "kernelspec": {
   "display_name": "Python 3",
   "language": "python",
   "name": "python3"
  },
  "language_info": {
   "codemirror_mode": {
    "name": "ipython",
    "version": 3
   },
   "file_extension": ".py",
   "mimetype": "text/x-python",
   "name": "python",
   "nbconvert_exporter": "python",
   "pygments_lexer": "ipython3",
   "version": "3.7.4"
  }
 },
 "nbformat": 4,
 "nbformat_minor": 2
}
