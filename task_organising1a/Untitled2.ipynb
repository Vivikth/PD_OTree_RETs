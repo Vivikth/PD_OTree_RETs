{
 "cells": [
  {
   "cell_type": "code",
   "execution_count": 5,
   "metadata": {},
   "outputs": [
    {
     "name": "stdout",
     "output_type": "stream",
     "text": [
      "Total reviews (all pages): 161\n",
      "Total pages: 17\n",
      "Start page: 1; End page: 17\n",
      "\n",
      "Started!\n"
     ]
    },
    {
     "data": {
      "application/vnd.jupyter.widget-view+json": {
       "model_id": "b8841e64fe9842509fd01ebc871b29f0",
       "version_major": 2,
       "version_minor": 0
      },
      "text/plain": [
       "HBox(children=(IntProgress(value=0, max=17), HTML(value='')))"
      ]
     },
     "metadata": {},
     "output_type": "display_data"
    },
    {
     "name": "stdout",
     "output_type": "stream",
     "text": [
      "\n",
      "Completed!\n"
     ]
    },
    {
     "data": {
      "text/html": [
       "<div>\n",
       "<style scoped>\n",
       "    .dataframe tbody tr th:only-of-type {\n",
       "        vertical-align: middle;\n",
       "    }\n",
       "\n",
       "    .dataframe tbody tr th {\n",
       "        vertical-align: top;\n",
       "    }\n",
       "\n",
       "    .dataframe thead th {\n",
       "        text-align: right;\n",
       "    }\n",
       "</style>\n",
       "<table border=\"1\" class=\"dataframe\">\n",
       "  <thead>\n",
       "    <tr style=\"text-align: right;\">\n",
       "      <th></th>\n",
       "      <th>date_info</th>\n",
       "      <th>name</th>\n",
       "      <th>title</th>\n",
       "      <th>content</th>\n",
       "      <th>rating</th>\n",
       "    </tr>\n",
       "  </thead>\n",
       "  <tbody>\n",
       "    <tr>\n",
       "      <td>0</td>\n",
       "      <td>Reviewed in India on 15 June 2020</td>\n",
       "      <td>Prabhjot Singh</td>\n",
       "      <td>Application Is Corrupted</td>\n",
       "      <td>After 15Days Of Use GTA V Is ...!</td>\n",
       "      <td>1.0 out of 5 stars</td>\n",
       "    </tr>\n",
       "    <tr>\n",
       "      <td>1</td>\n",
       "      <td>Reviewed in India on 17 March 2020</td>\n",
       "      <td>Anil</td>\n",
       "      <td>👍🏻</td>\n",
       "      <td>God</td>\n",
       "      <td>4.0 out of 5 stars</td>\n",
       "    </tr>\n",
       "    <tr>\n",
       "      <td>2</td>\n",
       "      <td>Reviewed in India on 19 November 2018</td>\n",
       "      <td>Sofiaubaid</td>\n",
       "      <td>The worst</td>\n",
       "      <td>Very bad game</td>\n",
       "      <td>1.0 out of 5 stars</td>\n",
       "    </tr>\n",
       "    <tr>\n",
       "      <td>3</td>\n",
       "      <td>Reviewed in India on 17 May 2020</td>\n",
       "      <td>Amazon Customer</td>\n",
       "      <td>Good Game Play , one of the famous game for PS...</td>\n",
       "      <td>Good Game... Awesome service by vendor and Ama...</td>\n",
       "      <td>4.0 out of 5 stars</td>\n",
       "    </tr>\n",
       "    <tr>\n",
       "      <td>4</td>\n",
       "      <td>Reviewed in India on 23 February 2020</td>\n",
       "      <td>Joseph Rodrigues</td>\n",
       "      <td>Amazing</td>\n",
       "      <td>Amazing</td>\n",
       "      <td>5.0 out of 5 stars</td>\n",
       "    </tr>\n",
       "  </tbody>\n",
       "</table>\n",
       "</div>"
      ],
      "text/plain": [
       "                               date_info              name  \\\n",
       "0      Reviewed in India on 15 June 2020    Prabhjot Singh   \n",
       "1     Reviewed in India on 17 March 2020              Anil   \n",
       "2  Reviewed in India on 19 November 2018        Sofiaubaid   \n",
       "3       Reviewed in India on 17 May 2020   Amazon Customer   \n",
       "4  Reviewed in India on 23 February 2020  Joseph Rodrigues   \n",
       "\n",
       "                                               title  \\\n",
       "0                           Application Is Corrupted   \n",
       "1                                                 👍🏻   \n",
       "2                                          The worst   \n",
       "3  Good Game Play , one of the famous game for PS...   \n",
       "4                                            Amazing   \n",
       "\n",
       "                                             content              rating  \n",
       "0                  After 15Days Of Use GTA V Is ...!  1.0 out of 5 stars  \n",
       "1                                                God  4.0 out of 5 stars  \n",
       "2                                      Very bad game  1.0 out of 5 stars  \n",
       "3  Good Game... Awesome service by vendor and Ama...  4.0 out of 5 stars  \n",
       "4                                            Amazing  5.0 out of 5 stars  "
      ]
     },
     "execution_count": 5,
     "metadata": {},
     "output_type": "execute_result"
    }
   ],
   "source": [
    "from amazon_product_review_scraper import amazon_product_review_scraper\n",
    "review_scraper = amazon_product_review_scraper(amazon_site=\"amazon.in\", product_asin=\"B07X6V2FR3\")\n",
    "reviews_df = review_scraper.scrape()\n",
    "reviews_df.head(5)\n"
   ]
  },
  {
   "cell_type": "code",
   "execution_count": 6,
   "metadata": {},
   "outputs": [],
   "source": [
    "test = reviews_df.head(1)"
   ]
  },
  {
   "cell_type": "code",
   "execution_count": null,
   "metadata": {},
   "outputs": [],
   "source": []
  }
 ],
 "metadata": {
  "kernelspec": {
   "display_name": "Python 3",
   "language": "python",
   "name": "python3"
  },
  "language_info": {
   "codemirror_mode": {
    "name": "ipython",
    "version": 3
   },
   "file_extension": ".py",
   "mimetype": "text/x-python",
   "name": "python",
   "nbconvert_exporter": "python",
   "pygments_lexer": "ipython3",
   "version": "3.7.4"
  }
 },
 "nbformat": 4,
 "nbformat_minor": 2
}
