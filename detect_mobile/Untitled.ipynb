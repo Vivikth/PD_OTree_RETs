{
 "cells": [
  {
   "cell_type": "code",
   "execution_count": 14,
   "metadata": {},
   "outputs": [],
   "source": [
    "import itertools\n",
    "\n",
    "def dict_product(dicts):\n",
    "    \"\"\"\n",
    "    >>> list(dict_product(dict(number=[1,2], character='ab')))\n",
    "    [{'character': 'a', 'number': 1},\n",
    "     {'character': 'a', 'number': 2},\n",
    "     {'character': 'b', 'number': 1},\n",
    "     {'character': 'b', 'number': 2}]\n",
    "    \"\"\"\n",
    "    return (dict(zip(dicts, x)) for x in itertools.product(*dicts.values()))\n"
   ]
  },
  {
   "cell_type": "code",
   "execution_count": 15,
   "metadata": {},
   "outputs": [],
   "source": [
    "A_dict = {'test':[1,2,3], 'colour':['']}\n"
   ]
  },
  {
   "cell_type": "code",
   "execution_count": 16,
   "metadata": {},
   "outputs": [
    {
     "data": {
      "text/plain": [
       "[{'test': 1, 'colour': ''},\n",
       " {'test': 2, 'colour': ''},\n",
       " {'test': 3, 'colour': ''}]"
      ]
     },
     "execution_count": 16,
     "metadata": {},
     "output_type": "execute_result"
    }
   ],
   "source": [
    "list(dict_product(A_dict))"
   ]
  },
  {
   "cell_type": "code",
   "execution_count": 1,
   "metadata": {},
   "outputs": [],
   "source": [
    "import random"
   ]
  },
  {
   "cell_type": "code",
   "execution_count": 17,
   "metadata": {},
   "outputs": [
    {
     "name": "stdout",
     "output_type": "stream",
     "text": [
      "[{'detect_mobile': 'non_mobile', 'Ethics_Consent': 'Consent', 'Introduction': 'all_correct', 'BDM': 'success'}, {'detect_mobile': 'non_mobile', 'Ethics_Consent': 'Consent', 'Introduction': 'incorrect', 'BDM': 'success'}, {'detect_mobile': 'non_mobile', 'Ethics_Consent': 'No_Consent', 'Introduction': 'all_correct', 'BDM': 'success'}, {'detect_mobile': 'non_mobile', 'Ethics_Consent': 'No_Consent', 'Introduction': 'incorrect', 'BDM': 'success'}, {'detect_mobile': 'mobile', 'Ethics_Consent': 'Consent', 'Introduction': 'all_correct', 'BDM': 'success'}, {'detect_mobile': 'mobile', 'Ethics_Consent': 'Consent', 'Introduction': 'incorrect', 'BDM': 'success'}, {'detect_mobile': 'mobile', 'Ethics_Consent': 'No_Consent', 'Introduction': 'all_correct', 'BDM': 'success'}, {'detect_mobile': 'mobile', 'Ethics_Consent': 'No_Consent', 'Introduction': 'incorrect', 'BDM': 'success'}]\n"
     ]
    }
   ],
   "source": [
    "global_cases_dict = {'detect_mobile': ['non_mobile', 'mobile'],\n",
    "                     'Ethics_Consent': ['Consent', 'No_Consent'],\n",
    "                     'Introduction': ['all_correct', 'incorrect'],\n",
    "                     'BDM': ['success']}\n",
    "global_cases = list(dict_product(global_cases_dict))\n",
    "print(global_cases)"
   ]
  },
  {
   "cell_type": "code",
   "execution_count": 18,
   "metadata": {},
   "outputs": [
    {
     "name": "stdout",
     "output_type": "stream",
     "text": [
      "0\n",
      "1\n",
      "2\n",
      "3\n",
      "4\n"
     ]
    }
   ],
   "source": [
    "for i in range(5):\n",
    "    print(i)"
   ]
  },
  {
   "cell_type": "code",
   "execution_count": null,
   "metadata": {},
   "outputs": [],
   "source": [
    "{\\\"11\\\":\\\"B\\\",\\\"12\\\":\\\"C\\\"}"
   ]
  }
 ],
 "metadata": {
  "kernelspec": {
   "display_name": "Python 3",
   "language": "python",
   "name": "python3"
  },
  "language_info": {
   "codemirror_mode": {
    "name": "ipython",
    "version": 3
   },
   "file_extension": ".py",
   "mimetype": "text/x-python",
   "name": "python",
   "nbconvert_exporter": "python",
   "pygments_lexer": "ipython3",
   "version": "3.7.4"
  }
 },
 "nbformat": 4,
 "nbformat_minor": 2
}
