{
 "cells": [
  {
   "cell_type": "code",
   "execution_count": 4,
   "metadata": {},
   "outputs": [],
   "source": [
    "import shutil\n",
    "\n",
    "original = r'C:\\Users\\University Vivikth\\Documents\\UNI\\Fourth Year\\Thesis\\Otree\\Experimental_RET - Copy\\task_encoding1a\\tests.py'\n",
    "target0 = r'C:\\Users\\University Vivikth\\Documents\\UNI\\Fourth Year\\Thesis\\Otree\\Experimental_RET - Copy\\task_encoding0\\tests.py'\n",
    "target1b = r'C:\\Users\\University Vivikth\\Documents\\UNI\\Fourth Year\\Thesis\\Otree\\Experimental_RET - Copy\\task_encoding1b\\tests.py'\n",
    "target2a = r'C:\\Users\\University Vivikth\\Documents\\UNI\\Fourth Year\\Thesis\\Otree\\Experimental_RET - Copy\\task_encoding2a\\tests.py'\n",
    "target2b = r'C:\\Users\\University Vivikth\\Documents\\UNI\\Fourth Year\\Thesis\\Otree\\Experimental_RET - Copy\\task_encoding2b\\tests.py'\n",
    "\n",
    "for target in [target0, target1b, target2a, target2b]:\n",
    "    shutil.copyfile(original, target)\n"
   ]
  },
  {
   "cell_type": "code",
   "execution_count": 12,
   "metadata": {},
   "outputs": [
    {
     "name": "stdout",
     "output_type": "stream",
     "text": [
      "C:\\Users\\University Vivikth\\Documents\\UNI\\Fourth Year\\Thesis\\Otree\\Experimental_RET - Copy\\task_encoding0\\tests.py\n"
     ]
    }
   ],
   "source": [
    "original = r'C:\\Users\\University Vivikth\\Documents\\UNI\\Fourth Year\\Thesis\\Otree\\Experimental_RET - Copy\\task_%s0\\tests.py'%('encoding')\n",
    "print(original)"
   ]
  },
  {
   "cell_type": "code",
   "execution_count": 14,
   "metadata": {},
   "outputs": [
    {
     "name": "stdout",
     "output_type": "stream",
     "text": [
      "C:\\Users\\University Vivikth\\Documents\\UNI\\Fourth Year\\Thesis\\Otree\\Experimental_RET - Copy\\task_encoding0\\tests.py \n",
      "\n",
      "C:\\Users\\University Vivikth\\Documents\\UNI\\Fourth Year\\Thesis\\Otree\\Experimental_RET - Copy\\task_encoding1b\\tests.py \n",
      "\n",
      "C:\\Users\\University Vivikth\\Documents\\UNI\\Fourth Year\\Thesis\\Otree\\Experimental_RET - Copy\\task_encoding2a\\tests.py \n",
      "\n",
      "C:\\Users\\University Vivikth\\Documents\\UNI\\Fourth Year\\Thesis\\Otree\\Experimental_RET - Copy\\task_encoding2b\\tests.py \n",
      "\n",
      "C:\\Users\\University Vivikth\\Documents\\UNI\\Fourth Year\\Thesis\\Otree\\Experimental_RET - Copy\\task_organising0\\tests.py \n",
      "\n",
      "C:\\Users\\University Vivikth\\Documents\\UNI\\Fourth Year\\Thesis\\Otree\\Experimental_RET - Copy\\task_organising1b\\tests.py \n",
      "\n",
      "C:\\Users\\University Vivikth\\Documents\\UNI\\Fourth Year\\Thesis\\Otree\\Experimental_RET - Copy\\task_organising2a\\tests.py \n",
      "\n",
      "C:\\Users\\University Vivikth\\Documents\\UNI\\Fourth Year\\Thesis\\Otree\\Experimental_RET - Copy\\task_organising2b\\tests.py \n",
      "\n",
      "C:\\Users\\University Vivikth\\Documents\\UNI\\Fourth Year\\Thesis\\Otree\\Experimental_RET - Copy\\task_replication0\\tests.py \n",
      "\n",
      "C:\\Users\\University Vivikth\\Documents\\UNI\\Fourth Year\\Thesis\\Otree\\Experimental_RET - Copy\\task_replication1b\\tests.py \n",
      "\n",
      "C:\\Users\\University Vivikth\\Documents\\UNI\\Fourth Year\\Thesis\\Otree\\Experimental_RET - Copy\\task_replication2a\\tests.py \n",
      "\n",
      "C:\\Users\\University Vivikth\\Documents\\UNI\\Fourth Year\\Thesis\\Otree\\Experimental_RET - Copy\\task_replication2b\\tests.py \n",
      "\n",
      "C:\\Users\\University Vivikth\\Documents\\UNI\\Fourth Year\\Thesis\\Otree\\Experimental_RET - Copy\\task_tabulation0\\tests.py \n",
      "\n",
      "C:\\Users\\University Vivikth\\Documents\\UNI\\Fourth Year\\Thesis\\Otree\\Experimental_RET - Copy\\task_tabulation1b\\tests.py \n",
      "\n",
      "C:\\Users\\University Vivikth\\Documents\\UNI\\Fourth Year\\Thesis\\Otree\\Experimental_RET - Copy\\task_tabulation2a\\tests.py \n",
      "\n",
      "C:\\Users\\University Vivikth\\Documents\\UNI\\Fourth Year\\Thesis\\Otree\\Experimental_RET - Copy\\task_tabulation2b\\tests.py \n",
      "\n",
      "C:\\Users\\University Vivikth\\Documents\\UNI\\Fourth Year\\Thesis\\Otree\\Experimental_RET - Copy\\task_transcribing0\\tests.py \n",
      "\n",
      "C:\\Users\\University Vivikth\\Documents\\UNI\\Fourth Year\\Thesis\\Otree\\Experimental_RET - Copy\\task_transcribing1b\\tests.py \n",
      "\n",
      "C:\\Users\\University Vivikth\\Documents\\UNI\\Fourth Year\\Thesis\\Otree\\Experimental_RET - Copy\\task_transcribing2a\\tests.py \n",
      "\n",
      "C:\\Users\\University Vivikth\\Documents\\UNI\\Fourth Year\\Thesis\\Otree\\Experimental_RET - Copy\\task_transcribing2b\\tests.py \n",
      "\n"
     ]
    }
   ],
   "source": [
    "for task in ['encoding', 'organising', 'replication', 'tabulation', 'transcribing']:\n",
    "    original = r'C:\\Users\\University Vivikth\\Documents\\UNI\\Fourth Year\\Thesis\\Otree\\Experimental_RET - Copy\\task_%s1a\\tests.py'%(task)\n",
    "    target0 = r'C:\\Users\\University Vivikth\\Documents\\UNI\\Fourth Year\\Thesis\\Otree\\Experimental_RET - Copy\\task_%s0\\tests.py'%(task)\n",
    "    target1b = r'C:\\Users\\University Vivikth\\Documents\\UNI\\Fourth Year\\Thesis\\Otree\\Experimental_RET - Copy\\task_%s1b\\tests.py'%(task)\n",
    "    target2a = r'C:\\Users\\University Vivikth\\Documents\\UNI\\Fourth Year\\Thesis\\Otree\\Experimental_RET - Copy\\task_%s2a\\tests.py'%(task)\n",
    "    target2b = r'C:\\Users\\University Vivikth\\Documents\\UNI\\Fourth Year\\Thesis\\Otree\\Experimental_RET - Copy\\task_%s2b\\tests.py'%(task)\n",
    "    for target in [target0, target1b, target2a, target2b]:\n",
    "        shutil.copyfile(original, target)\n"
   ]
  },
  {
   "cell_type": "code",
   "execution_count": null,
   "metadata": {},
   "outputs": [],
   "source": []
  }
 ],
 "metadata": {
  "kernelspec": {
   "display_name": "Python 3",
   "language": "python",
   "name": "python3"
  },
  "language_info": {
   "codemirror_mode": {
    "name": "ipython",
    "version": 3
   },
   "file_extension": ".py",
   "mimetype": "text/x-python",
   "name": "python",
   "nbconvert_exporter": "python",
   "pygments_lexer": "ipython3",
   "version": "3.7.4"
  }
 },
 "nbformat": 4,
 "nbformat_minor": 2
}
