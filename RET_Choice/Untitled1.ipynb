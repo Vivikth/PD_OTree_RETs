{
 "cells": [
  {
   "cell_type": "code",
   "execution_count": 5,
   "metadata": {},
   "outputs": [
    {
     "data": {
      "text/plain": [
       "'Option 2'"
      ]
     },
     "execution_count": 5,
     "metadata": {},
     "output_type": "execute_result"
    }
   ],
   "source": [
    "a = 2\n",
    "\"Option %i\" % a"
   ]
  },
  {
   "cell_type": "code",
   "execution_count": 11,
   "metadata": {},
   "outputs": [],
   "source": [
    "global_cases_dict = {'detect_mobile': ['non_mobile', 'mobile'],\n",
    "                     'Ethics_Consent': ['Consent', 'No_Consent'],\n",
    "                     'Introduction': ['all_correct', 'incorrect'],\n",
    "                     'BDM': ['success'],\n",
    "                     'Task_WTP': ['random'],\n",
    "                     'Exp_Prob': [[0.3, 0.5, 0.1, 0.1]], # [(O1,O1), (O1,O2), (O2, O1), (O2,O2)]\n",
    "                     'tremble_prob': [0.05]}\n"
   ]
  },
  {
   "cell_type": "code",
   "execution_count": 12,
   "metadata": {},
   "outputs": [],
   "source": [
    "def dict_product(dicts):\n",
    "    \"\"\"\n",
    "    >>> list(dict_product(dict(number=[1,2], character='ab')))\n",
    "    [{'character': 'a', 'number': 1},\n",
    "     {'character': 'a', 'number': 2},\n",
    "     {'character': 'b', 'number': 1},\n",
    "     {'character': 'b', 'number': 2}]\n",
    "    \"\"\"\n",
    "    import itertools\n",
    "    return (dict(zip(dicts, x)) for x in itertools.product(*dicts.values()))\n",
    "\n",
    "\n",
    "global_cases = list(dict_product(global_cases_dict))\n"
   ]
  },
  {
   "cell_type": "code",
   "execution_count": 13,
   "metadata": {},
   "outputs": [
    {
     "name": "stdout",
     "output_type": "stream",
     "text": [
      "[{'detect_mobile': 'non_mobile', 'Ethics_Consent': 'Consent', 'Introduction': 'all_correct', 'BDM': 'success', 'Task_WTP': 'random', 'Exp_Prob': [0.3, 0.5, 0.1, 0.1], 'tremble_prob': 0.05}, {'detect_mobile': 'non_mobile', 'Ethics_Consent': 'Consent', 'Introduction': 'incorrect', 'BDM': 'success', 'Task_WTP': 'random', 'Exp_Prob': [0.3, 0.5, 0.1, 0.1], 'tremble_prob': 0.05}, {'detect_mobile': 'non_mobile', 'Ethics_Consent': 'No_Consent', 'Introduction': 'all_correct', 'BDM': 'success', 'Task_WTP': 'random', 'Exp_Prob': [0.3, 0.5, 0.1, 0.1], 'tremble_prob': 0.05}, {'detect_mobile': 'non_mobile', 'Ethics_Consent': 'No_Consent', 'Introduction': 'incorrect', 'BDM': 'success', 'Task_WTP': 'random', 'Exp_Prob': [0.3, 0.5, 0.1, 0.1], 'tremble_prob': 0.05}, {'detect_mobile': 'mobile', 'Ethics_Consent': 'Consent', 'Introduction': 'all_correct', 'BDM': 'success', 'Task_WTP': 'random', 'Exp_Prob': [0.3, 0.5, 0.1, 0.1], 'tremble_prob': 0.05}, {'detect_mobile': 'mobile', 'Ethics_Consent': 'Consent', 'Introduction': 'incorrect', 'BDM': 'success', 'Task_WTP': 'random', 'Exp_Prob': [0.3, 0.5, 0.1, 0.1], 'tremble_prob': 0.05}, {'detect_mobile': 'mobile', 'Ethics_Consent': 'No_Consent', 'Introduction': 'all_correct', 'BDM': 'success', 'Task_WTP': 'random', 'Exp_Prob': [0.3, 0.5, 0.1, 0.1], 'tremble_prob': 0.05}, {'detect_mobile': 'mobile', 'Ethics_Consent': 'No_Consent', 'Introduction': 'incorrect', 'BDM': 'success', 'Task_WTP': 'random', 'Exp_Prob': [0.3, 0.5, 0.1, 0.1], 'tremble_prob': 0.05}]\n"
     ]
    }
   ],
   "source": [
    "print(global_cases)"
   ]
  },
  {
   "cell_type": "code",
   "execution_count": null,
   "metadata": {},
   "outputs": [],
   "source": []
  }
 ],
 "metadata": {
  "kernelspec": {
   "display_name": "Python 3",
   "language": "python",
   "name": "python3"
  },
  "language_info": {
   "codemirror_mode": {
    "name": "ipython",
    "version": 3
   },
   "file_extension": ".py",
   "mimetype": "text/x-python",
   "name": "python",
   "nbconvert_exporter": "python",
   "pygments_lexer": "ipython3",
   "version": "3.7.4"
  }
 },
 "nbformat": 4,
 "nbformat_minor": 2
}
