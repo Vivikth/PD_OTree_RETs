{
 "cells": [
  {
   "cell_type": "code",
   "execution_count": null,
   "metadata": {},
   "outputs": [],
   "source": [
    "def task_name(string):\n",
    "    if string == 'T':\n",
    "        return 'Tabulation'\n",
    "    elif string == 'C':\n",
    "        return \"Concealment\"\n",
    "    elif string == 'I':\n",
    "        return \"Interpretation\"\n",
    "    elif string == 'R':\n",
    "        return \"Replication\"\n",
    "    else:\n",
    "        raise ValueError('Input must be first (capital) letter of a task name')\n"
   ]
  }
 ],
 "metadata": {
  "kernelspec": {
   "display_name": "Python 3",
   "language": "python",
   "name": "python3"
  },
  "language_info": {
   "codemirror_mode": {
    "name": "ipython",
    "version": 3
   },
   "file_extension": ".py",
   "mimetype": "text/x-python",
   "name": "python",
   "nbconvert_exporter": "python",
   "pygments_lexer": "ipython3",
   "version": "3.7.4"
  }
 },
 "nbformat": 4,
 "nbformat_minor": 2
}
