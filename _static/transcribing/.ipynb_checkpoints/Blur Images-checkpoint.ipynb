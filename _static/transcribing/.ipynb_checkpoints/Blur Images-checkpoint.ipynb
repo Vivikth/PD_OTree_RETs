{
 "cells": [
  {
   "cell_type": "code",
   "execution_count": 10,
   "metadata": {},
   "outputs": [],
   "source": [
    "import os\n",
    "from PIL import Image, ImageFilter\n",
    "notebook_path = os.path.abspath(\"Notebook.ipynb\")\n",
    "filename = os.path.join(os.path.dirname(notebook_path), \"α.png\")\n",
    "greek_letters = ['α', 'β', 'γ', 'δ', 'ε', 'ζ', 'η', 'θ', 'ι', 'κ']"
   ]
  },
  {
   "cell_type": "code",
   "execution_count": 11,
   "metadata": {},
   "outputs": [],
   "source": [
    "import unicodedata\n",
    "\n",
    "def greek_to_name(symbol):\n",
    "    greek, size, letter, what, *with_tonos = unicodedata.name(symbol).split()\n",
    "    assert greek, letter == (\"GREEK\", \"LETTER\")\n",
    "    return what.lower() if size == \"SMALL\" else what.title()\n"
   ]
  },
  {
   "cell_type": "code",
   "execution_count": 13,
   "metadata": {},
   "outputs": [],
   "source": [
    "filenames = [os.path.join(os.path.dirname(notebook_path), \"%s.png\"%(letter)) for letter in greek_letters ]\n",
    "for filename, letter in zip(filenames, greek_letters):\n",
    "    #Load Images\n",
    "    OriImage = Image.open(filename)\n",
    "\n",
    "    #Applying GaussianBlur filter\n",
    "    gaussImage = OriImage.filter(ImageFilter.GaussianBlur(5))\n",
    "    gaussImage.show()\n",
    "\n",
    "    #Save Gaussian Blur Image\n",
    "    gaussImage.save(os.path.join(os.path.dirname(notebook_path), \"%sblur.png\"%(greek_to_name(letter))))\n"
   ]
  },
  {
   "cell_type": "code",
   "execution_count": 15,
   "metadata": {},
   "outputs": [
    {
     "name": "stdout",
     "output_type": "stream",
     "text": [
      "40.0\n",
      "alphablur-intensifies.gif\n",
      "40.0\n",
      "betablur-intensifies.gif\n",
      "40.0\n",
      "gammablur-intensifies.gif\n",
      "40.0\n",
      "deltablur-intensifies.gif\n",
      "40.0\n",
      "epsilonblur-intensifies.gif\n",
      "40.0\n",
      "zetablur-intensifies.gif\n",
      "40.0\n",
      "etablur-intensifies.gif\n",
      "40.0\n",
      "thetablur-intensifies.gif\n",
      "40.0\n",
      "iotablur-intensifies.gif\n",
      "40.0\n",
      "kappablur-intensifies.gif\n"
     ]
    }
   ],
   "source": [
    "for letter in greek_letters:\n",
    "    !python intensify.py -f {greek_to_name(letter)}blur.png -d 2 --shift 20"
   ]
  },
  {
   "cell_type": "code",
   "execution_count": 5,
   "metadata": {},
   "outputs": [
    {
     "name": "stdout",
     "output_type": "stream",
     "text": [
      "a\n"
     ]
    }
   ],
   "source": []
  },
  {
   "cell_type": "code",
   "execution_count": null,
   "metadata": {},
   "outputs": [],
   "source": []
  }
 ],
 "metadata": {
  "kernelspec": {
   "display_name": "Python 3",
   "language": "python",
   "name": "python3"
  },
  "language_info": {
   "codemirror_mode": {
    "name": "ipython",
    "version": 3
   },
   "file_extension": ".py",
   "mimetype": "text/x-python",
   "name": "python",
   "nbconvert_exporter": "python",
   "pygments_lexer": "ipython3",
   "version": "3.7.4"
  }
 },
 "nbformat": 4,
 "nbformat_minor": 2
}
