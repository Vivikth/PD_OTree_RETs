{
 "cells": [
  {
   "cell_type": "code",
   "execution_count": 72,
   "metadata": {},
   "outputs": [],
   "source": [
    "from PIL import Image, ImageDraw, ImageFont, ImageOps, ImageFilter\n",
    "import os\n",
    "import string\n",
    "import unicodedata\n",
    "\n",
    "notebook_path = os.path.abspath(\"Notebook.ipynb\")\n",
    "\n",
    "greek_letters = ['α', 'β', 'γ', 'δ', 'ε', 'ζ', 'η', 'θ', 'ι', 'κ', 'λ', 'μ', 'ν', 'ξ', 'ο', 'π', 'ρ', 'ς', 'σ', 'τ', 'υ', 'φ', 'χ', 'ψ', 'ω']\n",
    "upper_case = list(string.ascii_uppercase)\n",
    "digits = list(string.digits)\n",
    "punctuation = list(string.punctuation)"
   ]
  },
  {
   "cell_type": "code",
   "execution_count": 70,
   "metadata": {},
   "outputs": [],
   "source": [
    "def greek_to_name(symbol):\n",
    "    greek, size, letter, what, *with_tonos = unicodedata.name(symbol).split()\n",
    "    assert greek, letter == (\"GREEK\", \"LETTER\")\n",
    "    return what.lower() if size == \"SMALL\" else what.title()\n",
    "\n",
    "def punctuation_to_name(symbol):\n",
    "    return unicodedata.name(symbol).replace(\" \", \"\")"
   ]
  },
  {
   "cell_type": "code",
   "execution_count": 48,
   "metadata": {},
   "outputs": [],
   "source": [
    "def image_creation(symbol, outfile, blur = 4, fontsize = 70, WH = (200,200)):\n",
    "    W, H = WH\n",
    "    img = Image.new('RGB', (W, H), color = (255, 255, 255))\n",
    "    font = ImageFont.truetype(\"arial.ttf\", fontsize)\n",
    "    \n",
    "    msg = symbol\n",
    "    d = ImageDraw.Draw(img)\n",
    "    w, h = d.textsize(msg, font=font)\n",
    "    d.text(((W-w)/2,(H-h)/2), msg, fill=\"black\", font = font)\n",
    "\n",
    "    gaussImage = img.filter(ImageFilter.GaussianBlur(blur))\n",
    "    gaussImage.save(outfile)\n",
    "    \n",
    "    !python intensify.py -f {outfile} -d 2 --shift 20"
   ]
  },
  {
   "cell_type": "code",
   "execution_count": 60,
   "metadata": {},
   "outputs": [],
   "source": [
    "#Upper case Letters.\n",
    "for letter in upper_case:\n",
    "    image_creation(letter, \"Capital_Letters/%s.png\"%(letter), blur = 4, fontsize = 70, WH = (200,200))"
   ]
  },
  {
   "cell_type": "code",
   "execution_count": 63,
   "metadata": {},
   "outputs": [],
   "source": [
    "#Digits\n",
    "for digit in digits:\n",
    "    image_creation(digit, \"Digits/%s.png\"%(digit), blur = 4, fontsize = 70, WH = (200,200))"
   ]
  },
  {
   "cell_type": "code",
   "execution_count": 71,
   "metadata": {},
   "outputs": [],
   "source": [
    "#Punctuation\n",
    "for punk in punctuation:\n",
    "    image_creation(punk, \"Punctuation/%s.png\"%(punctuation_to_name(punk)), blur = 4, fontsize = 70, WH = (200,200))"
   ]
  },
  {
   "cell_type": "code",
   "execution_count": 73,
   "metadata": {},
   "outputs": [],
   "source": [
    "#Greek\n",
    "for greek in greek_letters:\n",
    "    image_creation(greek, \"Greek/%s.png\"%(greek_to_name(greek)), blur = 4, fontsize = 70, WH = (200,200))"
   ]
  }
 ],
 "metadata": {
  "kernelspec": {
   "display_name": "Python 3",
   "language": "python",
   "name": "python3"
  },
  "language_info": {
   "codemirror_mode": {
    "name": "ipython",
    "version": 3
   },
   "file_extension": ".py",
   "mimetype": "text/x-python",
   "name": "python",
   "nbconvert_exporter": "python",
   "pygments_lexer": "ipython3",
   "version": "3.7.4"
  }
 },
 "nbformat": 4,
 "nbformat_minor": 2
}
