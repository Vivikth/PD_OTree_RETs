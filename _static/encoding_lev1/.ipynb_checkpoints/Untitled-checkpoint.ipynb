{
 "cells": [
  {
   "cell_type": "code",
   "execution_count": 1,
   "metadata": {},
   "outputs": [
    {
     "name": "stdout",
     "output_type": "stream",
     "text": [
      "Hey, this is really fun!\n",
      "v! zmhvxdmxdmo!nll mikbg\n",
      "hey, this is really fun!\n"
     ]
    }
   ],
   "source": [
    "import random\n",
    "\n",
    "alphabet = 'abcdefghijklmnopqrstuvwxyz.,! ' # Note the space at the end, which I kept missing.\n",
    "# You could generate the key below using makeKey (i.e. key=makeKey(alphabet))\n",
    "key = 'nu.t!iyvxqfl,bcjrodhkaew spzgm'\n",
    "plaintext = \"Hey, this is really fun!\"\n",
    "# v! zmhvxdmxdmo!nll mikbg\n",
    "\n",
    "\n",
    "def makeKey(alphabet):\n",
    "    alphabet = list(alphabet)\n",
    "    random.shuffle(alphabet)\n",
    "    return ''.join(alphabet)\n",
    "\n",
    "def encrypt(plaintext, key, alphabet):\n",
    "    keyIndices = [alphabet.index(k.lower()) for k in plaintext]\n",
    "    return ''.join(key[keyIndex] for keyIndex in keyIndices)\n",
    "\n",
    "def decrypt(cipher, key, alphabet):\n",
    "    keyIndices = [key.index(k) for k in cipher]\n",
    "    return ''.join(alphabet[keyIndex] for keyIndex in keyIndices)\n",
    "\n",
    "cipher = encrypt(plaintext, key, alphabet)\n",
    "\n",
    "print(plaintext)\n",
    "print(cipher)\n",
    "print(decrypt(cipher, key, alphabet))\n"
   ]
  },
  {
   "cell_type": "code",
   "execution_count": null,
   "metadata": {},
   "outputs": [],
   "source": []
  }
 ],
 "metadata": {
  "kernelspec": {
   "display_name": "Python 3",
   "language": "python",
   "name": "python3"
  },
  "language_info": {
   "codemirror_mode": {
    "name": "ipython",
    "version": 3
   },
   "file_extension": ".py",
   "mimetype": "text/x-python",
   "name": "python",
   "nbconvert_exporter": "python",
   "pygments_lexer": "ipython3",
   "version": "3.7.4"
  }
 },
 "nbformat": 4,
 "nbformat_minor": 2
}
