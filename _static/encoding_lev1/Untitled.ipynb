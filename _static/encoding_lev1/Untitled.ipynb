{
 "cells": [
  {
   "cell_type": "code",
   "execution_count": 1,
   "metadata": {},
   "outputs": [
    {
     "name": "stdout",
     "output_type": "stream",
     "text": [
      "Hey, this is really fun!\n",
      "v! zmhvxdmxdmo!nll mikbg\n",
      "hey, this is really fun!\n"
     ]
    }
   ],
   "source": [
    "import random\n",
    "\n",
    "alphabet = 'abcdefghijklmnopqrstuvwxyz.,! ' # Note the space at the end, which I kept missing.\n",
    "# You could generate the key below using makeKey (i.e. key=makeKey(alphabet))\n",
    "key = 'nu.t!iyvxqfl,bcjrodhkaew spzgm'\n",
    "plaintext = \"Hey, this is really fun!\"\n",
    "# v! zmhvxdmxdmo!nll mikbg\n",
    "\n",
    "\n",
    "def makeKey(alphabet):\n",
    "    alphabet = list(alphabet)\n",
    "    random.shuffle(alphabet)\n",
    "    return ''.join(alphabet)\n",
    "\n",
    "def encrypt(plaintext, key, alphabet):\n",
    "    keyIndices = [alphabet.index(k.lower()) for k in plaintext]\n",
    "    return ''.join(key[keyIndex] for keyIndex in keyIndices)\n",
    "\n",
    "def decrypt(cipher, key, alphabet):\n",
    "    keyIndices = [key.index(k) for k in cipher]\n",
    "    return ''.join(alphabet[keyIndex] for keyIndex in keyIndices)\n",
    "\n",
    "cipher = encrypt(plaintext, key, alphabet)\n",
    "\n",
    "print(plaintext)\n",
    "print(cipher)\n",
    "print(decrypt(cipher, key, alphabet))\n"
   ]
  },
  {
   "cell_type": "code",
   "execution_count": 2,
   "metadata": {},
   "outputs": [
    {
     "data": {
      "text/plain": [
       "'nnun'"
      ]
     },
     "execution_count": 2,
     "metadata": {},
     "output_type": "execute_result"
    }
   ],
   "source": [
    "encrypt('aaba', key, alphabet)"
   ]
  },
  {
   "cell_type": "code",
   "execution_count": 3,
   "metadata": {},
   "outputs": [],
   "source": [
    "from tabulate import tabulate"
   ]
  },
  {
   "cell_type": "code",
   "execution_count": 4,
   "metadata": {},
   "outputs": [
    {
     "name": "stdout",
     "output_type": "stream",
     "text": [
      "<table>\n",
      "<thead>\n",
      "<tr><th>g    </th><th>r    </th><th>i    </th></tr>\n",
      "</thead>\n",
      "<tbody>\n",
      "<tr><td>one  </td><td>two  </td><td>three</td></tr>\n",
      "<tr><td>four </td><td>five </td><td>six  </td></tr>\n",
      "<tr><td>seven</td><td>eight</td><td>nine </td></tr>\n",
      "</tbody>\n",
      "</table>\n"
     ]
    }
   ],
   "source": [
    "table = [['one','two','three'],['four','five','six'],['seven','eight','nine']]\n",
    "\n",
    "print(tabulate(table, \"grid\", tablefmt='html'))\n"
   ]
  },
  {
   "cell_type": "code",
   "execution_count": 16,
   "metadata": {},
   "outputs": [],
   "source": [
    "import prettytable \n",
    "pt = PrettyTable()\n",
    "pt.field_names = [\"Letter\", \"A\", \"B\", \"C\"]\n",
    "pt.add_row([\"Keys\", \"A\", \"B\", \"C\"])"
   ]
  },
  {
   "cell_type": "code",
   "execution_count": 27,
   "metadata": {},
   "outputs": [],
   "source": [
    "# Just need to convert string to list - done.\n",
    "import os as os\n",
    "a = pt.get_html_string()\n",
    "notebook_path = os.path.abspath(\"Notebook.ipynb\")\n",
    "filename = os.path.join(os.path.dirname(notebook_path), \"styled_table.png\")\n",
    "import sys\n",
    "pt.hrules = prettytable.ALL"
   ]
  },
  {
   "cell_type": "code",
   "execution_count": 28,
   "metadata": {},
   "outputs": [
    {
     "name": "stdout",
     "output_type": "stream",
     "text": [
      "<table frame=\"box\" rules=\"all\">\n",
      "    <thead>\n",
      "        <tr>\n",
      "            <th style=\"padding-left: 1em; padding-right: 1em; text-align: center\">Letter</th>\n",
      "            <th style=\"padding-left: 1em; padding-right: 1em; text-align: center\">A</th>\n",
      "            <th style=\"padding-left: 1em; padding-right: 1em; text-align: center\">B</th>\n",
      "            <th style=\"padding-left: 1em; padding-right: 1em; text-align: center\">C</th>\n",
      "        </tr>\n",
      "    </thead>\n",
      "    <tbody>\n",
      "        <tr>\n",
      "            <td style=\"padding-left: 1em; padding-right: 1em; text-align: center; vertical-align: top\">Keys</td>\n",
      "            <td style=\"padding-left: 1em; padding-right: 1em; text-align: center; vertical-align: top\">A</td>\n",
      "            <td style=\"padding-left: 1em; padding-right: 1em; text-align: center; vertical-align: top\">B</td>\n",
      "            <td style=\"padding-left: 1em; padding-right: 1em; text-align: center; vertical-align: top\">C</td>\n",
      "        </tr>\n",
      "    </tbody>\n",
      "</table>\n"
     ]
    }
   ],
   "source": [
    "print(pt.get_html_string(format=True))\n"
   ]
  },
  {
   "cell_type": "code",
   "execution_count": 11,
   "metadata": {},
   "outputs": [
    {
     "name": "stdout",
     "output_type": "stream",
     "text": [
      "No Python documentation found for '<table frame=\"box\" rules=\"cols\">\\n    <thead>\\n        <tr>\\n            <th style=\"padding-left: 1em; padding-right: 1em; text-align: center\">Letter</th>\\n            <th style=\"padding-left: 1em; padding-right: 1em; text-align: center\">A</th>\\n            <th style=\"padding-left: 1em; padding-right: 1em; text-align: center\">B</th>\\n            <th style=\"padding-left: 1em; padding-right: 1em; text-align: center\">C</th>\\n        </tr>\\n    </thead>\\n    <tbody>\\n        <tr>\\n            <td style=\"padding-left: 1em; padding-right: 1em; text-align: center; vertical-align: top\">Keys</td>\\n            <td style=\"padding-left: 1em; padding-right: 1em; text-align: center; vertical-align: top\">A</td>\\n            <td style=\"padding-left: 1em; padding-right: 1em; text-align: center; vertical-align: top\">B</td>\\n            <td style=\"padding-left: 1em; padding-right: 1em; text-align: center; vertical-align: top\">C</td>\\n        </tr>\\n    </tbody>\\n</table>'.\n",
      "Use help() to get the interactive help utility.\n",
      "Use help(str) for help on the str class.\n",
      "\n"
     ]
    }
   ],
   "source": [
    "help(pt.get_html_string(format=True))"
   ]
  },
  {
   "cell_type": "code",
   "execution_count": null,
   "metadata": {},
   "outputs": [],
   "source": []
  }
 ],
 "metadata": {
  "kernelspec": {
   "display_name": "Python 3",
   "language": "python",
   "name": "python3"
  },
  "language_info": {
   "codemirror_mode": {
    "name": "ipython",
    "version": 3
   },
   "file_extension": ".py",
   "mimetype": "text/x-python",
   "name": "python",
   "nbconvert_exporter": "python",
   "pygments_lexer": "ipython3",
   "version": "3.7.4"
  }
 },
 "nbformat": 4,
 "nbformat_minor": 2
}
