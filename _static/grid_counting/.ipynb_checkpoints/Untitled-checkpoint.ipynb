{
 "cells": [
  {
   "cell_type": "code",
   "execution_count": 5,
   "metadata": {},
   "outputs": [
    {
     "data": {
      "text/plain": [
       "array([1, 1, 1, 0, 1, 1, 1, 0, 1, 0])"
      ]
     },
     "execution_count": 5,
     "metadata": {},
     "output_type": "execute_result"
    }
   ],
   "source": [
    "import numpy as np\n",
    "np.random.choice([0, 1], size=(10,), p=[1./3, 2./3])\n"
   ]
  },
  {
   "cell_type": "code",
   "execution_count": 23,
   "metadata": {},
   "outputs": [],
   "source": [
    "import numpy as np\n",
    "N = 100\n",
    "K = 30 # K zeros, N-K ones\n",
    "arr = np.array([0] * K + [1] * (N-K))\n",
    "np.random.shuffle(arr)\n",
    "arr = arr.reshape((10,10))"
   ]
  },
  {
   "cell_type": "code",
   "execution_count": 41,
   "metadata": {},
   "outputs": [],
   "source": [
    "import prettytable\n",
    "pt = prettytable.PrettyTable()\n",
    "for x in arr:\n",
    "    pt.add_row(x)\n",
    "pt.header = False\n",
    "pt.hrules = prettytable.ALL"
   ]
  },
  {
   "cell_type": "code",
   "execution_count": 42,
   "metadata": {},
   "outputs": [
    {
     "name": "stdout",
     "output_type": "stream",
     "text": [
      "+---+---+---+---+---+---+---+---+---+---+\n",
      "| β | α | α | α | β | α | β | α | β | α |\n",
      "+---+---+---+---+---+---+---+---+---+---+\n",
      "| β | β | β | β | α | β | β | β | β | β |\n",
      "+---+---+---+---+---+---+---+---+---+---+\n",
      "| β | α | β | β | β | β | α | α | α | β |\n",
      "+---+---+---+---+---+---+---+---+---+---+\n",
      "| α | β | β | β | α | β | β | β | β | α |\n",
      "+---+---+---+---+---+---+---+---+---+---+\n",
      "| β | α | β | β | β | β | β | β | α | β |\n",
      "+---+---+---+---+---+---+---+---+---+---+\n",
      "| β | β | α | β | β | β | β | β | α | α |\n",
      "+---+---+---+---+---+---+---+---+---+---+\n",
      "| β | α | β | β | β | β | α | β | β | β |\n",
      "+---+---+---+---+---+---+---+---+---+---+\n",
      "| β | β | β | β | α | β | β | α | β | β |\n",
      "+---+---+---+---+---+---+---+---+---+---+\n",
      "| β | α | α | α | β | α | β | β | β | α |\n",
      "+---+---+---+---+---+---+---+---+---+---+\n",
      "| β | β | α | β | β | β | β | α | β | β |\n",
      "+---+---+---+---+---+---+---+---+---+---+\n"
     ]
    }
   ],
   "source": [
    "print(pt)"
   ]
  },
  {
   "cell_type": "code",
   "execution_count": 37,
   "metadata": {},
   "outputs": [],
   "source": [
    "arr = np.array(['α'] * K + ['β'] * (N-K))\n",
    "np.random.shuffle(arr)\n",
    "arr = arr.reshape((10,10))"
   ]
  },
  {
   "cell_type": "code",
   "execution_count": null,
   "metadata": {},
   "outputs": [],
   "source": []
  }
 ],
 "metadata": {
  "kernelspec": {
   "display_name": "Python 3",
   "language": "python",
   "name": "python3"
  },
  "language_info": {
   "codemirror_mode": {
    "name": "ipython",
    "version": 3
   },
   "file_extension": ".py",
   "mimetype": "text/x-python",
   "name": "python",
   "nbconvert_exporter": "python",
   "pygments_lexer": "ipython3",
   "version": "3.7.4"
  }
 },
 "nbformat": 4,
 "nbformat_minor": 2
}
