{
 "cells": [
  {
   "cell_type": "code",
   "execution_count": 5,
   "metadata": {},
   "outputs": [
    {
     "data": {
      "text/plain": [
       "array([1, 1, 1, 0, 1, 1, 1, 0, 1, 0])"
      ]
     },
     "execution_count": 5,
     "metadata": {},
     "output_type": "execute_result"
    }
   ],
   "source": [
    "import numpy as np\n",
    "np.random.choice([0, 1], size=(10,), p=[1./3, 2./3])\n"
   ]
  },
  {
   "cell_type": "code",
   "execution_count": 23,
   "metadata": {},
   "outputs": [],
   "source": [
    "import numpy as np\n",
    "N = 100\n",
    "K = 30 # K zeros, N-K ones\n",
    "arr = np.array([0] * K + [1] * (N-K))\n",
    "np.random.shuffle(arr)\n",
    "arr = arr.reshape((10,10))"
   ]
  },
  {
   "cell_type": "code",
   "execution_count": 41,
   "metadata": {},
   "outputs": [],
   "source": [
    "import prettytable\n",
    "pt = prettytable.PrettyTable()\n",
    "for x in arr:\n",
    "    pt.add_row(x)\n",
    "pt.header = False\n",
    "pt.hrules = prettytable.ALL"
   ]
  },
  {
   "cell_type": "code",
   "execution_count": 42,
   "metadata": {},
   "outputs": [
    {
     "name": "stdout",
     "output_type": "stream",
     "text": [
      "+---+---+---+---+---+---+---+---+---+---+\n",
      "| β | α | α | α | β | α | β | α | β | α |\n",
      "+---+---+---+---+---+---+---+---+---+---+\n",
      "| β | β | β | β | α | β | β | β | β | β |\n",
      "+---+---+---+---+---+---+---+---+---+---+\n",
      "| β | α | β | β | β | β | α | α | α | β |\n",
      "+---+---+---+---+---+---+---+---+---+---+\n",
      "| α | β | β | β | α | β | β | β | β | α |\n",
      "+---+---+---+---+---+---+---+---+---+---+\n",
      "| β | α | β | β | β | β | β | β | α | β |\n",
      "+---+---+---+---+---+---+---+---+---+---+\n",
      "| β | β | α | β | β | β | β | β | α | α |\n",
      "+---+---+---+---+---+---+---+---+---+---+\n",
      "| β | α | β | β | β | β | α | β | β | β |\n",
      "+---+---+---+---+---+---+---+---+---+---+\n",
      "| β | β | β | β | α | β | β | α | β | β |\n",
      "+---+---+---+---+---+---+---+---+---+---+\n",
      "| β | α | α | α | β | α | β | β | β | α |\n",
      "+---+---+---+---+---+---+---+---+---+---+\n",
      "| β | β | α | β | β | β | β | α | β | β |\n",
      "+---+---+---+---+---+---+---+---+---+---+\n"
     ]
    }
   ],
   "source": [
    "print(pt)"
   ]
  },
  {
   "cell_type": "code",
   "execution_count": 37,
   "metadata": {},
   "outputs": [],
   "source": [
    "arr = np.array(['α'] * K + ['β'] * (N-K))\n",
    "np.random.shuffle(arr)\n",
    "arr = arr.reshape((10,10))"
   ]
  },
  {
   "cell_type": "code",
   "execution_count": 31,
   "metadata": {},
   "outputs": [
    {
     "name": "stdout",
     "output_type": "stream",
     "text": [
      "[[3 1 3 0 2 3 2 1 1 3]\n",
      " [0 3 2 3 3 3 0 3 1 0]\n",
      " [0 0 0 3 3 3 2 3 1 2]\n",
      " [3 0 2 1 3 0 1 1 3 1]\n",
      " [1 3 0 3 0 3 0 1 3 1]\n",
      " [3 0 0 0 0 3 3 1 2 1]\n",
      " [0 0 2 3 3 1 1 3 3 2]\n",
      " [3 0 1 1 0 3 3 0 3 3]\n",
      " [2 3 1 0 0 0 3 1 0 3]\n",
      " [1 0 0 0 3 0 3 3 3 0]]\n"
     ]
    }
   ],
   "source": [
    "#Goal: Generate np.array of certain size, with certain number of zeros, with character requirement(strings only)\n",
    "dim = 10 #Square matrices only?\n",
    "N = dim**2\n",
    "K = 30 # number of zeros\n",
    "character_list = [1,2,3]\n",
    "lenlist = len(character_list)\n",
    "distn = random_sum_to(N - K, num_terms = lenlist)\n",
    "dummy = []\n",
    "for dist, character in zip(distn,character_list):\n",
    "    dummy += [character] * dist\n",
    "arr = np.array([0] * K + dummy) #Create array\n",
    "\n",
    "np.random.shuffle(arr)\n",
    "arr = arr.reshape((10,10))\n",
    "print(arr)\n",
    "\n"
   ]
  },
  {
   "cell_type": "code",
   "execution_count": 43,
   "metadata": {},
   "outputs": [],
   "source": [
    "import numpy as np\n",
    "import random as r\n",
    "import prettytable\n",
    "\n",
    "#Generates random array (of given size) with certain number of zeroes, and random distribution of other characters.\n",
    "def count_array(dim, num_zeros, characters):\n",
    "    def random_sum_to(n, num_terms = None):\n",
    "        num_terms = (num_terms or r.randint(2, n)) - 1\n",
    "        a = r.sample(range(1, n), num_terms) + [0, n]\n",
    "        list.sort(a)\n",
    "        return [a[i+1] - a[i] for i in range(len(a) - 1)]\n",
    "\n",
    "    distn = random_sum_to(dim**2 - num_zeros, num_terms = len(characters))\n",
    "    dummy = []\n",
    "    for dist, character in zip(distn,character_list):\n",
    "        dummy += [character] * dist\n",
    "    arr = np.array(['0'] * num_zeros + dummy) #Create array\n",
    "    np.random.shuffle(arr)\n",
    "    return arr.reshape((10,10))\n",
    "\n",
    "def prettify(array):\n",
    "    pt = prettytable.PrettyTable()\n",
    "    for x in array:\n",
    "        pt.add_row(x)\n",
    "    pt.header = False\n",
    "    pt.hrules = prettytable.ALL\n",
    "    return pt"
   ]
  },
  {
   "cell_type": "code",
   "execution_count": 31,
   "metadata": {},
   "outputs": [],
   "source": [
    "import numpy as np\n",
    "import random\n",
    "import prettytable\n",
    "\n",
    "#Generates random array (of given size) with certain number of zeroes, and random distribution of other characters.\n",
    "def count_array_pretty(dim, num_zeros, characters, outpath):\n",
    "    def random_sum_to(n, num_terms = None):\n",
    "        num_terms = (num_terms or random.randint(2, n)) - 1\n",
    "        a = random.sample(range(1, n), num_terms) + [0, n]\n",
    "        list.sort(a)\n",
    "        return [a[i+1] - a[i] for i in range(len(a) - 1)]\n",
    "    \n",
    "    def prettify(array):\n",
    "        pt = prettytable.PrettyTable()\n",
    "        for x in array:\n",
    "            pt.add_row(x)\n",
    "        pt.header = False\n",
    "        pt.hrules = prettytable.ALL\n",
    "        return pt.get_html_string(format=True)\n",
    "\n",
    "    distn = random_sum_to(dim**2 - num_zeros, num_terms = len(characters))\n",
    "    dummy = []\n",
    "    for dist, character in zip(distn,characters):\n",
    "        dummy += [character] * dist\n",
    "    arr = np.array(['0'] * num_zeros + dummy) #Create array\n",
    "    np.random.shuffle(arr)\n",
    "    table_string = prettify(arr.reshape((10,10)))\n",
    "    \n",
    "    path_wkthmltoimage = r'C:\\Program Files\\wkhtmltopdf\\bin\\wkhtmltoimage.exe'\n",
    "    config = imgkit.config(wkhtmltoimage=path_wkthmltoimage)\n",
    "\n",
    "    imgkit.from_string(table_string, outpath, config = config)\n",
    "\n",
    "    \n",
    "    \n"
   ]
  },
  {
   "cell_type": "code",
   "execution_count": 28,
   "metadata": {},
   "outputs": [],
   "source": [
    "test = count_array_pretty(10, 10, ['1', '2', 'a'], 'test.png')"
   ]
  },
  {
   "cell_type": "code",
   "execution_count": 30,
   "metadata": {},
   "outputs": [
    {
     "name": "stdout",
     "output_type": "stream",
     "text": [
      "Loading page (1/2)\r\n",
      "[>                                                           ] 0%\r",
      "[======>                                                     ] 10%\r",
      "[==============================>                             ] 50%\r",
      "[============================================================] 100%\r",
      "Rendering (2/2)                                                    \r\n",
      "[>                                                           ] 0%\r",
      "[===============>                                            ] 25%\r",
      "[============================================================] 100%\r",
      "Done                                                               \r\n"
     ]
    },
    {
     "data": {
      "text/plain": [
       "True"
      ]
     },
     "execution_count": 30,
     "metadata": {},
     "output_type": "execute_result"
    }
   ],
   "source": [
    "import imgkit\n"
   ]
  },
  {
   "cell_type": "code",
   "execution_count": null,
   "metadata": {},
   "outputs": [],
   "source": []
  }
 ],
 "metadata": {
  "kernelspec": {
   "display_name": "Python 3",
   "language": "python",
   "name": "python3"
  },
  "language_info": {
   "codemirror_mode": {
    "name": "ipython",
    "version": 3
   },
   "file_extension": ".py",
   "mimetype": "text/x-python",
   "name": "python",
   "nbconvert_exporter": "python",
   "pygments_lexer": "ipython3",
   "version": "3.7.4"
  }
 },
 "nbformat": 4,
 "nbformat_minor": 2
}
