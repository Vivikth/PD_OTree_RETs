{
 "cells": [
  {
   "cell_type": "code",
   "execution_count": 39,
   "metadata": {},
   "outputs": [],
   "source": [
    "alphabet = 'abcdefghijklmnopqrstuvwxyz.,! ' # Note the space at the end, which I kept missing.\n",
    "key = 'nu.t!iyvxqfl,bcjrodhkaew spzgm'\n",
    "\n",
    "alphabet_list = list(alphabet)\n",
    "key_list = list(key)"
   ]
  },
  {
   "cell_type": "code",
   "execution_count": 40,
   "metadata": {},
   "outputs": [],
   "source": [
    "import prettytable\n",
    "pt = prettytable.PrettyTable()\n",
    "pt.field_names = [\"Letter\"] + alphabet_list\n",
    "pt.add_row([\"Keys\"] + key_list)"
   ]
  },
  {
   "cell_type": "code",
   "execution_count": 41,
   "metadata": {},
   "outputs": [],
   "source": [
    "pt.hrules = prettytable.ALL\n",
    "table_string = pt.get_html_string(format=True)\n"
   ]
  },
  {
   "cell_type": "code",
   "execution_count": 43,
   "metadata": {},
   "outputs": [
    {
     "name": "stdout",
     "output_type": "stream",
     "text": [
      "Loading page (1/2)\r\n",
      "[>                                                           ] 0%\r",
      "[======>                                                     ] 10%\r",
      "[==============================>                             ] 50%\r",
      "[============================================================] 100%\r",
      "Rendering (2/2)                                                    \r\n",
      "[>                                                           ] 0%\r",
      "[===============>                                            ] 25%\r",
      "[============================================================] 100%\r",
      "Done                                                               \r\n"
     ]
    },
    {
     "data": {
      "text/plain": [
       "True"
      ]
     },
     "execution_count": 43,
     "metadata": {},
     "output_type": "execute_result"
    }
   ],
   "source": [
    "import imgkit\n",
    "path_wkthmltoimage = r'C:\\Program Files\\wkhtmltopdf\\bin\\wkhtmltoimage.exe'\n",
    "config = imgkit.config(wkhtmltoimage=path_wkthmltoimage)\n",
    "\n",
    "imgkit.from_string(table_string, 'out.png', config = config)\n"
   ]
  },
  {
   "cell_type": "code",
   "execution_count": 35,
   "metadata": {},
   "outputs": [
    {
     "name": "stdout",
     "output_type": "stream",
     "text": [
      "Loading page (1/2)\r\n",
      "[>                                                           ] 0%\r",
      "[======>                                                     ] 10%\r",
      "[==================>                                         ] 30%\r",
      "[======================>                                     ] 38%\r",
      "[===========================>                                ] 46%\r",
      "[==============================>                             ] 51%\r",
      "[=====================================>                      ] 63%\r",
      "[==========================================>                 ] 70%\r",
      "[==============================================>             ] 77%\r",
      "[=================================================>          ] 83%\r",
      "[====================================================>       ] 87%\r",
      "[============================================================] 100%\r",
      "Rendering (2/2)                                                    \r\n",
      "[>                                                           ] 0%\r",
      "[===============>                                            ] 25%\r",
      "[============================================================] 100%\r",
      "Done                                                               \r\n"
     ]
    },
    {
     "data": {
      "text/plain": [
       "True"
      ]
     },
     "execution_count": 35,
     "metadata": {},
     "output_type": "execute_result"
    }
   ],
   "source": []
  }
 ],
 "metadata": {
  "kernelspec": {
   "display_name": "Python 3",
   "language": "python",
   "name": "python3"
  },
  "language_info": {
   "codemirror_mode": {
    "name": "ipython",
    "version": 3
   },
   "file_extension": ".py",
   "mimetype": "text/x-python",
   "name": "python",
   "nbconvert_exporter": "python",
   "pygments_lexer": "ipython3",
   "version": "3.7.4"
  }
 },
 "nbformat": 4,
 "nbformat_minor": 2
}
